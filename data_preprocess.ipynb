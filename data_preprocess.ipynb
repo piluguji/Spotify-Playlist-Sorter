{
 "cells": [
  {
   "attachments": {},
   "cell_type": "markdown",
   "metadata": {},
   "source": [
    "# Getting Data"
   ]
  },
  {
   "cell_type": "code",
   "execution_count": null,
   "metadata": {},
   "outputs": [],
   "source": [
    "import spotipy\n",
    "from spotipy.oauth2 import SpotifyClientCredentials\n",
    "import pandas as pd\n",
    "import config"
   ]
  },
  {
   "cell_type": "code",
   "execution_count": null,
   "metadata": {},
   "outputs": [],
   "source": [
    "#Authentication - without user\n",
    "client_credentials_manager = SpotifyClientCredentials(client_id=config.client_id, client_secret=config.client_secret)\n",
    "sp = spotipy.Spotify(client_credentials_manager = client_credentials_manager)"
   ]
  },
  {
   "cell_type": "code",
   "execution_count": null,
   "metadata": {},
   "outputs": [],
   "source": [
    "playlistNames = ['Chill Car - Rap', 'Bollywood Beats', 'Lit Songs', 'Chill - Pop', 'Epic Vibes', 'Nostalgic EDM'] \n",
    "playlist_links = [\"https://open.spotify.com/playlist/39yrrZvXXVTQjnv41mLZE5?si=043d2b062b4748c7\",\n",
    "                  \"https://open.spotify.com/playlist/12p5ArAxY6r3QOtNATi7Mx?si=0e44c2c5c12d4f45\",\n",
    "                  \"https://open.spotify.com/playlist/4KhumTd9QyJM3RUvAzSJh7?si=edc7bcc04f1c43a9\",\n",
    "                  \"https://open.spotify.com/playlist/2W4rSltujQSUyXT3Yu03ga?si=7ff0dd18a47b4517\",\n",
    "                  \"https://open.spotify.com/playlist/2K1GpNap0DQs2BsTwbGGPI?si=bcea1ac135924f04\",\n",
    "                  \"https://open.spotify.com/playlist/0KAbqWJrRxqhaoYKVu2hDE?si=0ebdb168c8634f40\"\n",
    "                ]\n",
    "playlist_URIs = [playlist_link.split(\"/\")[-1].split(\"?\")[0] for playlist_link in playlist_links]"
   ]
  },
  {
   "cell_type": "code",
   "execution_count": null,
   "metadata": {},
   "outputs": [],
   "source": [
    "def get_playlist_tracks(playlist_id):\n",
    "    results = sp.playlist_tracks(playlist_id)\n",
    "    tracks = results['items']\n",
    "    while results['next']:\n",
    "        results = sp.next(results)\n",
    "        tracks.extend(results['items'])\n",
    "    return tracks"
   ]
  },
  {
   "cell_type": "code",
   "execution_count": null,
   "metadata": {},
   "outputs": [],
   "source": [
    "def get_data():\n",
    "    song_data = []\n",
    "    seen_songs = set()\n",
    "    for index, playlist_URI in enumerate(playlist_URIs):\n",
    "        print(playlistNames[index])\n",
    "        tracks = get_playlist_tracks(playlist_URI)\n",
    "        for track in tracks:\n",
    "            # URI\n",
    "            track_uri = track[\"track\"][\"uri\"]\n",
    "            \n",
    "            # Skip duplicate songs\n",
    "            if track_uri in seen_songs:\n",
    "                continue\n",
    "            \n",
    "            # Add song URI to seen_songs set\n",
    "            seen_songs.add(track_uri)\n",
    "            \n",
    "            # Track name\n",
    "            track_name = track[\"track\"][\"name\"]\n",
    "            # Main Artist\n",
    "            artists = []\n",
    "            artist_genres = set()\n",
    "            \n",
    "            for artist in track[\"track\"][\"artists\"]:\n",
    "                artist_uri = artist[\"uri\"]\n",
    "                artist_info = sp.artist(artist_uri)\n",
    "                artists.append(artist['name'])\n",
    "                artist_genres.update(artist_info[\"genres\"])\n",
    "\n",
    "            # Album\n",
    "            album = track[\"track\"][\"album\"][\"name\"]\n",
    "            \n",
    "            # release date\n",
    "            release_date = track[\"track\"][\"album\"][\"release_date\"][0:4]\n",
    "\n",
    "            # Popularity of the track\n",
    "            track_pop = track[\"track\"][\"popularity\"]\n",
    "            \n",
    "            # Audio Features\n",
    "            audio_features = sp.audio_features(track_uri)[0]\n",
    "            selected_features = {\n",
    "                'danceability': audio_features['danceability'],\n",
    "                'energy': audio_features['energy'],\n",
    "                'key': audio_features['key'],\n",
    "                'loudness': audio_features['loudness'],\n",
    "                'speechiness': audio_features['speechiness'],\n",
    "                'acousticness': audio_features['acousticness'],\n",
    "                'instrumentalness': audio_features['instrumentalness'],\n",
    "                'liveness': audio_features['liveness'],\n",
    "                'valence': audio_features['valence'],\n",
    "                'tempo': audio_features['tempo']\n",
    "            }\n",
    "            \n",
    "            song_data.append([track_name, artists, list(artist_genres), track_pop, release_date] + list(selected_features.values()) + [playlistNames[index]])\n",
    "\n",
    "    # Create the dataframe\n",
    "    columns = ['Track Name', 'Artist Name', 'Artist Genres', 'Track Popularity', 'Release Date'] + list(selected_features.keys()) + ['Playlist Name']\n",
    "    df = pd.DataFrame(song_data, columns=columns)\n",
    "    df.to_pickle('songData')\n",
    "\n",
    "    return df\n",
    "\n",
    "#df = get_data() "
   ]
  },
  {
   "cell_type": "code",
   "execution_count": null,
   "metadata": {},
   "outputs": [],
   "source": [
    "df = pd.read_pickle('songData')\n",
    "df "
   ]
  },
  {
   "attachments": {},
   "cell_type": "markdown",
   "metadata": {},
   "source": [
    "# Exploring Data"
   ]
  },
  {
   "cell_type": "code",
   "execution_count": null,
   "metadata": {},
   "outputs": [],
   "source": [
    "import matplotlib.pyplot as plt\n",
    "\n",
    "genre_freq = {}\n",
    "\n",
    "for genre_list in df['Artist Genres']:\n",
    "    for g in genre_list:\n",
    "        if g in genre_freq:\n",
    "            genre_freq[g] += 1\n",
    "        else:\n",
    "            genre_freq[g] = 1\n",
    "\n",
    "sorted_data = dict(sorted(genre_freq.items(), key=lambda x: x[1]))\n",
    "\n",
    "genre_freq_filtered = {genre: frequency for genre, frequency in sorted_data.items() if frequency > 15}\n",
    "\n",
    "plt.bar(genre_freq_filtered.keys(), genre_freq_filtered.values(), color='g')\n",
    "\n",
    "# Set labels and title\n",
    "plt.xlabel('Genres')\n",
    "plt.ylabel('Frequency')\n",
    "plt.title('Most Common Music Genres')\n",
    "\n",
    "# Rotate the genre labels for better visibility\n",
    "plt.xticks(rotation=90)\n",
    "\n",
    "# Display the histogram\n",
    "plt.show()"
   ]
  },
  {
   "cell_type": "code",
   "execution_count": null,
   "metadata": {},
   "outputs": [],
   "source": [
    "import re\n",
    "\n",
    "artist_freq = {}\n",
    "\n",
    "# Filter out artists' names with special characters\n",
    "pattern = re.compile(r'^[a-zA-Z0-9\\s]+$')  # Regular expression pattern to match alphanumeric characters and spaces\n",
    "\n",
    "for artists in df['Artist Name']:\n",
    "    for artist in artists:\n",
    "        if re.match(pattern, artist):\n",
    "            if artist in artist_freq:\n",
    "                artist_freq[artist] += 1\n",
    "            else:\n",
    "                artist_freq[artist] = 1\n",
    "\n",
    "\n",
    "sorted_data = dict(sorted(artist_freq.items(), key=lambda x: x[1]))\n",
    "\n",
    "genre_freq_filtered = {genre: frequency for genre, frequency in sorted_data.items() if frequency > 7}\n",
    "\n",
    "plt.bar(genre_freq_filtered.keys(), genre_freq_filtered.values(), color='g')\n",
    "\n",
    "# Set labels and title\n",
    "plt.xlabel('Artists')\n",
    "plt.ylabel('Frequency')\n",
    "plt.title('Most Common Music Artists')\n",
    "\n",
    "# Rotate the genre labels for better visibility\n",
    "plt.xticks(rotation=90)\n",
    "\n",
    "# Display the histogram\n",
    "plt.show()"
   ]
  },
  {
   "attachments": {},
   "cell_type": "markdown",
   "metadata": {},
   "source": [
    "# Processing"
   ]
  },
  {
   "cell_type": "code",
   "execution_count": null,
   "metadata": {},
   "outputs": [],
   "source": [
    "def genre_encoding(df):\n",
    "    df['Rap Genre'] = df['Artist Genres'].apply(lambda x: 1 if re.search('|'.join(['drill', 'rap', 'hip hop']), ' '.join(x)) else 0)\n",
    "    df['Pop Genre'] = df['Artist Genres'].apply(lambda x: 1 if re.search('|'.join(['pop', 'dance', 'broadway', 'reggae fusion']), ' '.join(x)) else 0)\n",
    "    df['Rock Genre'] = df['Artist Genres'].apply(lambda x: 1 if re.search('|'.join(['rock', 'metalcore']), ' '.join(x)) else 0)\n",
    "    df['R&B Genre'] = df['Artist Genres'].apply(lambda x: 1 if re.search('|'.join(['r&b', 'blues', 'rhythm', 'dixieland', 'harlem']), ' '.join(x)) else 0)\n",
    "    df['Bollywood Genre'] = df['Artist Genres'].apply(lambda x: 1 if re.search('|'.join(['filmi', 'bollywood', 'indian', 'mollywood']), ' '.join(x)) else 0)\n",
    "    df['EDM Genre'] = df['Artist Genres'].apply(lambda x: 1 if re.search('|'.join(['edm', 'electro', 'nordic house', 'speedrun', 'gaming edm', 'dubstep', 'brostep']), ' '.join(x)) else 0)\n",
    "    df['Soundtrack Genre'] = df['Artist Genres'].apply(lambda x: 1 if re.search('|'.join(['orchestra', 'soundtrack', 'movie', 'hollywood', 'anime lo-fi']), ' '.join(x)) else 0)\n",
    "genre_encoding(df)"
   ]
  },
  {
   "cell_type": "code",
   "execution_count": null,
   "metadata": {},
   "outputs": [],
   "source": [
    "# Tracks with genres but unlisted from above\n",
    "df.loc[(df.iloc[:, 16:].sum(axis=1) == 0) & (df['Artist Genres'].map(len) != 0)]"
   ]
  },
  {
   "cell_type": "code",
   "execution_count": null,
   "metadata": {},
   "outputs": [],
   "source": [
    "df['Release Date'] = pd. to_numeric(df['Release Date'])"
   ]
  },
  {
   "cell_type": "markdown",
   "metadata": {},
   "source": [
    "# Normalizing + Handling Categoricals"
   ]
  },
  {
   "cell_type": "code",
   "execution_count": null,
   "metadata": {},
   "outputs": [],
   "source": [
    "from sklearn.preprocessing import OneHotEncoder\n",
    "from sklearn.preprocessing import StandardScaler\n",
    "\n",
    "x = df.iloc[:, 3:].drop(\"Playlist Name\", axis=1).values\n",
    "scaler = StandardScaler()\n",
    "X = scaler.fit_transform(x) # normalizing the features\n",
    "\n",
    "y = df[['Playlist Name']]\n",
    "ohe = OneHotEncoder()\n",
    "Y_ohe = ohe.fit_transform(y)\n",
    "Y = Y_ohe.toarray()\n",
    "\n",
    "print(Y[0],'\\n', ohe.categories_)"
   ]
  },
  {
   "attachments": {},
   "cell_type": "markdown",
   "metadata": {},
   "source": [
    "# Visualize"
   ]
  },
  {
   "cell_type": "code",
   "execution_count": null,
   "metadata": {},
   "outputs": [],
   "source": [
    "from sklearn.decomposition import PCA\n",
    "pca_song = PCA(n_components=2)\n",
    "principalComponents_songs = pca_song.fit_transform(X)\n",
    "\n",
    "principal_song_df = pd.DataFrame(data = principalComponents_songs)\n",
    "\n",
    "label_encoder = pd.factorize(df['Playlist Name'])\n",
    "labels = label_encoder[0]\n",
    "\n",
    "scatter = plt.scatter(principal_song_df[0], principal_song_df[1], c=labels)\n",
    "\n",
    "# Add labels and title to the plot\n",
    "plt.xlabel('Component 1')\n",
    "plt.ylabel('Component 2')\n",
    "plt.title('PCA Scatter Plot')\n",
    "plt.legend(scatter.legend_elements()[0], playlistNames, title='Playlist URI')"
   ]
  },
  {
   "cell_type": "code",
   "execution_count": null,
   "metadata": {},
   "outputs": [],
   "source": [
    "import plotly.graph_objects as go\n",
    "\n",
    "pca_song = PCA(n_components=3)\n",
    "principalComponents_songs = pca_song.fit_transform(X)\n",
    "\n",
    "principal_song_df = pd.DataFrame(data = principalComponents_songs)\n",
    "\n",
    "label_encoder = pd.factorize(df['Playlist Name'])\n",
    "labels = label_encoder[0]\n",
    "\n",
    "# Create a trace for the scatter plot\n",
    "trace = go.Scatter3d(\n",
    "    x=principal_song_df[0],\n",
    "    y=principal_song_df[1],\n",
    "    z=principal_song_df[2],  # Assuming you have three components in your PCA data\n",
    "    mode='markers',\n",
    "    marker=dict(\n",
    "        size=5,\n",
    "        color=labels,\n",
    "        colorscale='Viridis',  # You can choose any colorscale you prefer\n",
    "        colorbar=dict(\n",
    "            title='Playlist URI'\n",
    "        )\n",
    "    )\n",
    ")\n",
    "\n",
    "# Create the layout for the 3D plot\n",
    "layout = go.Layout(\n",
    "    title='PCA 3D Scatter Plot',\n",
    "    scene=dict(\n",
    "        xaxis=dict(title='Component 1'),\n",
    "        yaxis=dict(title='Component 2'),\n",
    "        zaxis=dict(title='Component 3')  # Assuming you have three components in your PCA data\n",
    "    )\n",
    ")\n",
    "\n",
    "# Create the figure\n",
    "fig = go.Figure(data=[trace], layout=layout)\n",
    "\n",
    "# Show the interactive plot\n",
    "fig.show()"
   ]
  },
  {
   "cell_type": "markdown",
   "metadata": {},
   "source": [
    "No Genre Information Given"
   ]
  },
  {
   "cell_type": "code",
   "execution_count": null,
   "metadata": {},
   "outputs": [],
   "source": [
    "x_nogenre = df.iloc[:, 3:].drop(\"Playlist Name\", axis=1).iloc[:, :-7].values\n",
    "X_nogenre = StandardScaler().fit_transform(x_nogenre)\n",
    "pca_song = PCA(n_components=2)\n",
    "principalComponents_songs = pca_song.fit_transform(X_nogenre)\n",
    "\n",
    "principal_song_df = pd.DataFrame(data = principalComponents_songs)\n",
    "\n",
    "label_encoder = pd.factorize(df['Playlist Name'])\n",
    "labels = label_encoder[0]\n",
    "\n",
    "scatter = plt.scatter(principal_song_df[0], principal_song_df[1], c=labels)\n",
    "\n",
    "# Add labels and title to the plot\n",
    "plt.xlabel('Component 1')\n",
    "plt.ylabel('Component 2')\n",
    "plt.title('PCA Scatter Plot')\n",
    "plt.legend(scatter.legend_elements()[0], playlistNames, title='Playlist URI')"
   ]
  },
  {
   "cell_type": "markdown",
   "metadata": {},
   "source": [
    "# NN to sort songs"
   ]
  },
  {
   "cell_type": "markdown",
   "metadata": {},
   "source": [
    "NN with Genre Information Given"
   ]
  },
  {
   "cell_type": "code",
   "execution_count": null,
   "metadata": {},
   "outputs": [],
   "source": [
    "from sklearn.model_selection import train_test_split\n",
    "X_train, X_test, y_train, y_test = train_test_split(X, Y, test_size = 0.2, stratify=Y, random_state = 0)"
   ]
  },
  {
   "cell_type": "code",
   "execution_count": null,
   "metadata": {},
   "outputs": [],
   "source": [
    "from keras.layers import Dense\n",
    "from keras.models import Sequential\n",
    "from keras import regularizers\n",
    "from keras.layers import Dropout\n",
    " \n",
    "model = Sequential()\n",
    "model.add(Dense(256, input_dim=X.shape[1], activation='relu', kernel_regularizer=regularizers.l1(0.001))) \n",
    "model.add(Dropout(0.4))\n",
    "model.add(Dense(256, activation='relu', kernel_regularizer=regularizers.l1(0.001)))  \n",
    "model.add(Dropout(0.4))\n",
    "model.add(Dense(Y.shape[1], activation='softmax'))  # Output layer with softmax activation\n",
    "\n",
    "# Compile the model\n",
    "model.compile(loss='categorical_crossentropy', optimizer='adam', metrics=['accuracy'])"
   ]
  },
  {
   "cell_type": "code",
   "execution_count": null,
   "metadata": {},
   "outputs": [],
   "source": [
    "hist = model.fit(X_train, y_train, validation_data=(X_test, y_test), verbose=0, epochs=50, batch_size=16)"
   ]
  },
  {
   "cell_type": "code",
   "execution_count": null,
   "metadata": {},
   "outputs": [],
   "source": [
    "plt.plot(hist.history['accuracy'], label='Acc')\n",
    "plt.plot(hist.history['val_accuracy'], label='Val Acc')\n",
    "plt.title('Acc Over Epochs')\n",
    "plt.ylabel('Acc')\n",
    "plt.xlabel('No. epoch')\n",
    "plt.show()"
   ]
  },
  {
   "cell_type": "code",
   "execution_count": 34,
   "metadata": {},
   "outputs": [
    {
     "name": "stdout",
     "output_type": "stream",
     "text": [
      "5/5 [==============================] - 0s 2ms/step\n"
     ]
    },
    {
     "data": {
      "text/plain": [
       "Text(113.9222222222222, 0.5, 'Actual label')"
      ]
     },
     "execution_count": 34,
     "metadata": {},
     "output_type": "execute_result"
    },
    {
     "data": {
      "image/png": "[encoded data removed]",
      "text/plain": [
       "<Figure size 640x480 with 1 Axes>"
      ]
     },
     "metadata": {},
     "output_type": "display_data"
    }
   ],
   "source": [
    "from sklearn.metrics import confusion_matrix\n",
    "import seaborn as sns\n",
    " \n",
    "y_predicted = model.predict(X_test)\n",
    "mat = confusion_matrix(y_test.argmax(axis=1), y_predicted.argmax(axis=1))\n",
    " \n",
    "sns.heatmap(mat, square=True, annot=True, fmt='d', cbar=False, cmap='Blues',\n",
    "            xticklabels=ohe.categories_[0],\n",
    "            yticklabels=ohe.categories_[0])\n",
    " \n",
    "plt.xlabel('Predicted label')\n",
    "plt.ylabel('Actual label')"
   ]
  },
  {
   "cell_type": "markdown",
   "metadata": {},
   "source": [
    "# Examing Data After Findings"
   ]
  },
  {
   "cell_type": "code",
   "execution_count": null,
   "metadata": {},
   "outputs": [],
   "source": [
    "chill = df.loc[df[\"Playlist Name\"] == \"Chill Car - Rap\"]\n",
    "lit = df.loc[df[\"Playlist Name\"] == \"Lit Songs\"]"
   ]
  },
  {
   "cell_type": "code",
   "execution_count": null,
   "metadata": {},
   "outputs": [],
   "source": [
    "chill.columns"
   ]
  },
  {
   "cell_type": "code",
   "execution_count": null,
   "metadata": {},
   "outputs": [],
   "source": [
    "import numpy as np\n",
    "\n",
    "columns_to_compare = ['Track Popularity',\n",
    "       'Release Date', 'danceability', 'energy', 'key', 'loudness']\n",
    "    #    'speechiness', 'acousticness', 'instrumentalness', 'liveness',\n",
    "    #    'valence', 'tempo']\n",
    "\n",
    "num_cols = 3  # Number of columns in the grid\n",
    "num_rows = (len(columns_to_compare) - 1) // num_cols + 1  # Number of rows in the grid\n",
    "\n",
    "# Create the grid plot for histograms\n",
    "fig, axes = plt.subplots(nrows=num_rows, ncols=num_cols, figsize=(12, 8))\n",
    "\n",
    "# Iterate over the columns and create histograms in the grid plot\n",
    "for i, col in enumerate(columns_to_compare):\n",
    "    ax = axes[i // num_cols, i % num_cols]  # Get the appropriate axis from the grid layout\n",
    "\n",
    "    # Compute histogram values and bin edges for each dataframe\n",
    "    hist1, bins1 = np.histogram(chill[col], bins='auto', density=True)\n",
    "    hist2, bins2 = np.histogram(lit[col], bins='auto', density=True)\n",
    "    \n",
    "    # Compute the bin width\n",
    "    bin_width = bins1[1] - bins1[0]\n",
    "    \n",
    "    # Plot histogram for dataframe 1\n",
    "    ax.bar(bins1[:-1], hist1, width=bin_width, alpha=0.5, label='Chill')\n",
    "    \n",
    "    # Plot histogram for dataframe 2\n",
    "    ax.bar(bins2[:-1], hist2, width=bin_width, alpha=0.5, label='Lit')\n",
    "    \n",
    "    ax.set_xlabel(col)  # Set the x-axis label\n",
    "    ax.set_ylabel('Density')  # Set the y-axis label as Density\n",
    "    ax.legend()  # Show the legend\n",
    "\n",
    "# Remove empty subplots if there are any\n",
    "if i + 1 < num_rows * num_cols:\n",
    "    for j in range(i + 1, num_rows * num_cols):\n",
    "        fig.delaxes(axes[j // num_cols, j % num_cols])\n",
    "\n",
    "# Adjust the spacing between subplots\n",
    "plt.tight_layout()\n",
    "\n",
    "# Show the plot\n",
    "plt.show()"
   ]
  },
  {
   "cell_type": "code",
   "execution_count": 31,
   "metadata": {},
   "outputs": [
    {
     "data": {
      "image/png": "[encoded data removed]",
      "text/plain": [
       "<Figure size 1200x800 with 5 Axes>"
      ]
     },
     "metadata": {},
     "output_type": "display_data"
    }
   ],
   "source": [
    "import numpy as np\n",
    "\n",
    "columns_to_compare = ['speechiness', 'acousticness', 'liveness',\n",
    "       'valence', 'tempo']\n",
    "\n",
    "num_cols = 3  # Number of columns in the grid\n",
    "num_rows = (len(columns_to_compare) - 1) // num_cols + 1  # Number of rows in the grid\n",
    "\n",
    "# Create the grid plot for histograms\n",
    "fig, axes = plt.subplots(nrows=num_rows, ncols=num_cols, figsize=(12, 8))\n",
    "\n",
    "# Iterate over the columns and create histograms in the grid plot\n",
    "for i, col in enumerate(columns_to_compare):\n",
    "    ax = axes[i // num_cols, i % num_cols]  # Get the appropriate axis from the grid layout\n",
    "\n",
    "    # Compute histogram values and bin edges for each dataframe\n",
    "    hist1, bins1 = np.histogram(chill[col], bins='auto', density=True)\n",
    "    hist2, bins2 = np.histogram(lit[col], bins='auto', density=True)\n",
    "    \n",
    "    # Compute the bin width\n",
    "    bin_width = bins1[1] - bins1[0]\n",
    "    \n",
    "    # Plot histogram for dataframe 1\n",
    "    ax.bar(bins1[:-1], hist1, width=bin_width, alpha=0.5, label='Chill')\n",
    "    \n",
    "    # Plot histogram for dataframe 2\n",
    "    ax.bar(bins2[:-1], hist2, width=bin_width, alpha=0.5, label='Lit')\n",
    "    \n",
    "    ax.set_xlabel(col)  # Set the x-axis label\n",
    "    ax.set_ylabel('Density')  # Set the y-axis label as Density\n",
    "    ax.legend()  # Show the legend\n",
    "\n",
    "# Remove empty subplots if there are any\n",
    "if i + 1 < num_rows * num_cols:\n",
    "    for j in range(i + 1, num_rows * num_cols):\n",
    "        fig.delaxes(axes[j // num_cols, j % num_cols])\n",
    "\n",
    "# Adjust the spacing between subplots\n",
    "plt.tight_layout()\n",
    "\n",
    "# Show the plot\n",
    "plt.show()"
   ]
  },
  {
   "cell_type": "markdown",
   "metadata": {},
   "source": [
    "# Unsupervised Classification"
   ]
  }
 ],
 "metadata": {
  "kernelspec": {
   "display_name": "venv",
   "language": "python",
   "name": "python3"
  },
  "language_info": {
   "codemirror_mode": {
    "name": "ipython",
    "version": 3
   },
   "file_extension": ".py",
   "mimetype": "text/x-python",
   "name": "python",
   "nbconvert_exporter": "python",
   "pygments_lexer": "ipython3",
   "version": "3.10.2"
  },
  "orig_nbformat": 4
 },
 "nbformat": 4,
 "nbformat_minor": 2
}
